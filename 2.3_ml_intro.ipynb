{
 "cells": [
  {
   "cell_type": "markdown",
   "id": "12533ba6-a414-4fe7-8bec-d4f27d39b2e5",
   "metadata": {},
   "source": [
    "# Using ML techniques to infer a multiplier\n",
    "\n",
    "### Scenario\n",
    "\n",
    "You discover that the number of apple seeds is directly tied to the overall height of the fruit, the seed count just needs to be multiplied by some fixed number. Create a model such that given the number of seeds, you can predict the height of the fruit. ***Use an iterative guessing approach to estimate the value of the multiplier.***"
   ]
  },
  {
   "cell_type": "markdown",
   "id": "2cc3efe5-553f-4be9-95e0-ee1a4c96ebea",
   "metadata": {},
   "source": [
    "### We use two packages for this\n",
    "1. random - to generate random numbers\n",
    "2. numpy - this package handles matricies (or more technically arrays, which may have more dimensions than a matrix)"
   ]
  },
  {
   "cell_type": "code",
   "execution_count": 1,
   "id": "6359a1f8-8f41-4709-9898-7faf13fa5d4a",
   "metadata": {},
   "outputs": [],
   "source": [
    "import numpy as np\n",
    "import random"
   ]
  },
  {
   "cell_type": "markdown",
   "id": "b9bcff20-4918-4051-838a-8e9e788d0400",
   "metadata": {},
   "source": [
    "## Part 1 - Set up data"
   ]
  },
  {
   "cell_type": "markdown",
   "id": "21f82737-0ec7-4981-aaea-b95537961a83",
   "metadata": {},
   "source": [
    "### Randomly select the multiplier\n",
    "This will be the value the seed count is multiplied by, and the number we're trying to discover\n",
    "* Select a random number between 10 and 100 (uniform distribution) and set it equal to a variable named \"actual_multiplier\""
   ]
  },
  {
   "cell_type": "code",
   "execution_count": 5,
   "id": "767e5ea2-fd39-42c8-a615-34ebaff96076",
   "metadata": {},
   "outputs": [
    {
     "name": "stdout",
     "output_type": "stream",
     "text": [
      "72.63593950456206\n"
     ]
    }
   ],
   "source": [
    "actual_multiplier = random.uniform(10, 100)\n",
    "print(actual_multiplier)"
   ]
  },
  {
   "cell_type": "markdown",
   "id": "f27dd8bf-eaa5-4006-9ab8-d6905ddc249e",
   "metadata": {},
   "source": [
    "### Collect some apple seeds\n",
    "Collect some samples of apple seeds, and measure the associated fruits\n",
    "* To start we'll use 10 samples with different numbers of seeds in each sample. Here we'll use numbers 1, 2, ..., 9, 10\n",
    "    * Make a numpy array named seed_count_array with these values\n",
    "* For obvious reasons, we will not be measuring any apples right now. We're going to cheat a bit and say that the height of the associated apples were the number of seeds times our multiplier value plus noise\n",
    "    * Make a numpy array called apple_height_array that is length 10, and equal to the seed_count_array times the actual_multiplier\n",
    "    * Use the np.random.random method to create an array of length 10, and name it noise_array\n",
    "    * Add the values from the elements of the noise array to the elements of apple_height_array\n",
    "* Print out the actual_multiplier, seed_count_array, and apple_height_array"
   ]
  },
  {
   "cell_type": "code",
   "execution_count": 8,
   "id": "f3b5b472-30b9-49e1-bbe0-d5fa502896f2",
   "metadata": {},
   "outputs": [
    {
     "data": {
      "text/plain": [
       "array([ 1,  2,  3,  4,  5,  6,  7,  8,  9, 10])"
      ]
     },
     "execution_count": 8,
     "metadata": {},
     "output_type": "execute_result"
    }
   ],
   "source": [
    "#Create an array with values 1-10\n",
    "seed_count_array = np.array([1, 2, 3, 4, 5, 6, 7, 8, 9, 10])\n",
    "seed_count_array"
   ]
  },
  {
   "cell_type": "code",
   "execution_count": 15,
   "id": "f8072b6d-f141-48ae-968c-935ea633a745",
   "metadata": {},
   "outputs": [
    {
     "data": {
      "text/plain": [
       "array([ 1,  2,  3,  4,  5,  6,  7,  8,  9, 10])"
      ]
     },
     "execution_count": 15,
     "metadata": {},
     "output_type": "execute_result"
    }
   ],
   "source": [
    "#Alt: Create an array with values 1-10\n",
    "seed_count_array = np.arange(1,11)\n",
    "seed_count_array"
   ]
  },
  {
   "cell_type": "code",
   "execution_count": 16,
   "id": "d0f4a181-af8b-4065-9d7f-5daee175365a",
   "metadata": {},
   "outputs": [
    {
     "data": {
      "text/plain": [
       "array([ 72.6359395 , 145.27187901, 217.90781851, 290.54375802,\n",
       "       363.17969752, 435.81563703, 508.45157653, 581.08751604,\n",
       "       653.72345554, 726.35939505])"
      ]
     },
     "execution_count": 16,
     "metadata": {},
     "output_type": "execute_result"
    }
   ],
   "source": [
    "#Times the array by the random number\n",
    "apple_height_array = seed_count_array * actual_multiplier\n",
    "apple_height_array"
   ]
  },
  {
   "cell_type": "code",
   "execution_count": 20,
   "id": "a76c7ad9-c3bc-480c-a9f2-d7357f1f24b9",
   "metadata": {},
   "outputs": [
    {
     "data": {
      "text/plain": [
       "array([0.38976799, 0.08382246, 0.81279041, 0.27069333, 0.75396983,\n",
       "       0.1129841 , 0.91990327, 0.56817607, 0.37317437, 0.62496154])"
      ]
     },
     "execution_count": 20,
     "metadata": {},
     "output_type": "execute_result"
    }
   ],
   "source": [
    "#Create the noise array\n",
    "noise_array = np.random.random(10)\n",
    "noise_array"
   ]
  },
  {
   "cell_type": "code",
   "execution_count": 22,
   "id": "591f1d03-ecbe-4858-af8c-fa03a776427b",
   "metadata": {},
   "outputs": [
    {
     "data": {
      "text/plain": [
       "array([ 73.41547549, 145.43952393, 219.53339933, 291.08514468,\n",
       "       364.68763719, 436.04160522, 510.29138306, 582.22386818,\n",
       "       654.46980429, 727.60931813])"
      ]
     },
     "execution_count": 22,
     "metadata": {},
     "output_type": "execute_result"
    }
   ],
   "source": [
    "#Add the noise values to the apple height values\n",
    "apple_height_array = apple_height_array + noise_array\n",
    "apple_height_array"
   ]
  },
  {
   "cell_type": "code",
   "execution_count": 23,
   "id": "545ac2b3-5cf7-4c5c-af6a-a62063d0e36f",
   "metadata": {},
   "outputs": [
    {
     "name": "stdout",
     "output_type": "stream",
     "text": [
      "72.63593950456206 [ 1  2  3  4  5  6  7  8  9 10] [ 73.41547549 145.43952393 219.53339933 291.08514468 364.68763719\n",
      " 436.04160522 510.29138306 582.22386818 654.46980429 727.60931813]\n"
     ]
    }
   ],
   "source": [
    "#Print all values\n",
    "print(actual_multiplier, seed_count_array, apple_height_array)"
   ]
  },
  {
   "cell_type": "markdown",
   "id": "34c2c05d-d52f-4a38-be42-fc71c4e47f53",
   "metadata": {},
   "source": [
    "### Sidenote - How contrived is this exercise?\n",
    "\n",
    "This is toy problem where we know the answer before we start. The point of this example is understand overall process of iterative improvement. Relationships typically being modelled with ML are more complicated than a simple multiplier, but suprisingly little changes for more complex problems. Here we're modelling a single parameter, but many models used in biology have 10s of millions, but are built out of many simple calculations like our exercise. The math is more advanced (but maybe not as much as you might think) and beyond our scope, but wouldn't serve much practical use anyway since these calculations are never ever done by hand, and a comprehensive understanding of them is not strictly necessary unless researching novel algorithm designs."
   ]
  },
  {
   "cell_type": "markdown",
   "id": "7671afc0-8e38-41f7-aeba-5308772b45eb",
   "metadata": {},
   "source": [
    "## Part 2 - Build out a training loop"
   ]
  },
  {
   "cell_type": "markdown",
   "id": "47364488-5e4e-4123-88dc-17465b0ce6ae",
   "metadata": {},
   "source": [
    "### Steps (Add steps from slides here)\n",
    "1. Write nested for loop to make a random prediction for each sample and go through 10 epochs\n",
    "- Write a prediction function (named predict_multiplier) for this that guesses a value from -100 to 100\n",
    "2. Write a function (calculate_loss) that substracts the prediction from the true value\n",
    "- N.B. the multiplier is the parameter we are trying to guess, the prediction is the multilier times the number of seeds\n",
    "- At each step print this loss, predicted multiplier, actual multiplier, predicted target, actual target and number of seeds\n",
    "3. Create a variable that keeps track of the best (lowest) loss value - call it best_loss\n",
    "- Make a list called best_param_list that appends *another* list of the loss, predicted multiplier, actual multiplier, predicted target, actual target and number of seeds (making a list of lists) whenever a new best loss if found\n",
    "- Add a step before your loop to initialise these values\n",
    "- Try increasing the number of epochs (make sure you comment out the print statements though!)\n",
    "4. Update the predict function to take in the previous step's prediction and loss to make the output more accurate\n",
    "- Add a step before your loop to initialise these values\n",
    "5. "
   ]
  },
  {
   "cell_type": "code",
   "execution_count": 160,
   "id": "f7b0d68a-944b-47a8-b7f3-54670497b45a",
   "metadata": {},
   "outputs": [],
   "source": [
    "#Define the predict_multiplier function that guesses a random multiplier between -100 to 100\n",
    "def predict_multiplier(previous_prediction, previous_loss): \n",
    "    return previous_prediction+(previous_loss*0.001) "
   ]
  },
  {
   "cell_type": "code",
   "execution_count": 161,
   "id": "bef94d53-0dff-4d7e-a828-e3b24a92b1fa",
   "metadata": {},
   "outputs": [],
   "source": [
    "#Define the function calculate_loss that substracts the prediction from the true_value\n",
    "def calculate_loss(y_true, y_pred):\n",
    "    return y_true - y_pred"
   ]
  },
  {
   "cell_type": "code",
   "execution_count": 171,
   "id": "ce33a654-6bac-427c-aa30-3e4b6e06b65f",
   "metadata": {},
   "outputs": [],
   "source": [
    "#Create a for loop that iterates over the array\n",
    "epoch_count = 10000\n",
    "sample_count = len(seed_count_array)\n",
    "best_loss = 100\n",
    "best_param_list=[] #Create empty list to fill when best loss is found\n",
    "\n",
    "predicted_multiplier = random.uniform(-100,100)\n",
    "loss = calculate_loss(apple_height_array[0], predicted_multiplier*seed_count_array[0])\n",
    "\n",
    "for i in range(epoch_count): #Iterate each epoch\n",
    "    for j in range(sample_count): #Iterate each seed\n",
    "        predicted_multiplier = predict_multiplier(predicted_multiplier, loss) #Predict the multipler (random no. between -100 to 100)\n",
    "        loss = calculate_loss(apple_height_array[j], predicted_multiplier * seed_count_array[j]) #Calculate the loss, each of the actual apple heights minus the predicted apple heights\n",
    "        #print(predict_multiplier, loss)\n",
    "        if abs(loss) < best_loss:\n",
    "            best_loss = abs(loss)\n",
    "            best_param_list.append([loss, apple_height_prediction, actual_multiplier, \n",
    "                                    predicted_multiplier*seed_count_array[j], apple_height_array[j],\n",
    "                                    seed_count_array[j]])\n",
    "            \n",
    "#If loss > 0, then prediction was too small\n",
    "#If loss < 0, then prediction was too large\n",
    "        \n",
    "            "
   ]
  },
  {
   "cell_type": "code",
   "execution_count": 172,
   "id": "175b2d4b-3149-42eb-94d5-6edd3b480311",
   "metadata": {},
   "outputs": [
    {
     "name": "stdout",
     "output_type": "stream",
     "text": [
      "loss, predicted_multiplier, actual_multiplier, predicted_height, apple_height_array[j],seed_count_array[j]\n",
      "\n",
      "[0.1424180768544261, -765.0686917542231, 72.63593950456206, 145.29710585438346, 145.4395239312379, 2]\n",
      "[0.12840236467809518, -765.0686917542231, 72.63593950456206, 435.9132028585746, 436.0416052232527, 6]\n",
      "[0.12466050179955346, -765.0686917542231, 72.63593950456206, 145.31486342943833, 145.4395239312379, 2]\n",
      "[0.0758716834998836, -765.0686917542231, 72.63593950456206, 435.9657335397528, 436.0416052232527, 6]\n",
      "[0.026161794478355205, -765.0686917542231, 72.63593950456206, 436.01544342877435, 436.0416052232527, 6]\n",
      "[-0.020878773264144, -765.0686917542231, 72.63593950456206, 436.06248399651685, 436.0416052232527, 6]\n",
      "[0.012954955289302461, -765.0686917542231, 72.63593950456206, 145.42656897594858, 145.4395239312379, 2]\n",
      "[0.011906752770187268, -765.0686917542231, 72.63593950456206, 654.4578975375036, 654.4698042902738, 9]\n",
      "[0.002149290046219221, -765.0686917542231, 72.63593950456206, 145.43737464119167, 145.4395239312379, 2]\n"
     ]
    }
   ],
   "source": [
    "print('loss, predicted_multiplier, actual_multiplier, predicted_height, apple_height_array[j],seed_count_array[j]')\n",
    "print()\n",
    "for row in best_param_list[-10:-1]:\n",
    "    print(row)"
   ]
  },
  {
   "cell_type": "code",
   "execution_count": null,
   "id": "b06b6e5e-4929-4b11-82d9-4da5c6566222",
   "metadata": {},
   "outputs": [],
   "source": []
  }
 ],
 "metadata": {
  "kernelspec": {
   "display_name": "Python 3 (ipykernel)",
   "language": "python",
   "name": "python3"
  },
  "language_info": {
   "codemirror_mode": {
    "name": "ipython",
    "version": 3
   },
   "file_extension": ".py",
   "mimetype": "text/x-python",
   "name": "python",
   "nbconvert_exporter": "python",
   "pygments_lexer": "ipython3",
   "version": "3.9.12"
  }
 },
 "nbformat": 4,
 "nbformat_minor": 5
}
