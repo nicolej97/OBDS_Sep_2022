{
 "cells": [
  {
   "cell_type": "markdown",
   "id": "51414f95-affd-4cba-b46a-c134e0e29e76",
   "metadata": {
    "tags": []
   },
   "source": [
    "# MNIST classification using a SGD classifier and Scikit-Learn functions"
   ]
  },
  {
   "cell_type": "markdown",
   "id": "95c84858-d6a3-4d04-8494-5288c9a33d0a",
   "metadata": {},
   "source": [
    "### A few packages to get you going\n",
    "* We'll be loading many more throughout the tutorial\n",
    "* Download the dataset by executing the proceeding cells"
   ]
  },
  {
   "cell_type": "code",
   "execution_count": null,
   "id": "a0fd32d7-d9f4-4e80-bb42-0877c2f51eee",
   "metadata": {},
   "outputs": [],
   "source": [
    "from sklearn.datasets import fetch_openml\n",
    "import matplotlib.pyplot as plt\n",
    "import numpy as np\n",
    "from sklearn.model_selection import train_test_split\n",
    "from sklearn import linear_model\n",
    "from sklearn.preprocessing import StandardScaler\n",
    "from sklearn.model_selection import cross_val_score\n",
    "from sklearn.model_selection import cross_val_predict\n",
    "from sklearn.metrics import precision_score\n",
    "from sklearn.metrics import recall_score\n",
    "from sklearn import metrics\n",
    "from sklearn.metrics import precision_recall_fscore_support\n",
    "from sklearn import metrics\n",
    "from sklearn.metrics import roc_auc_score\n"
   ]
  },
  {
   "cell_type": "code",
   "execution_count": 5,
   "id": "a0afab77-e9d7-412e-ae78-7880cfad6c73",
   "metadata": {},
   "outputs": [],
   "source": [
    "mnist = fetch_openml('mnist_784', version=1, as_frame=False)"
   ]
  },
  {
   "cell_type": "markdown",
   "id": "240b1038-13d3-4d90-b775-657c04c3a981",
   "metadata": {},
   "source": [
    "* Print dictionary keys"
   ]
  },
  {
   "cell_type": "code",
   "execution_count": 6,
   "id": "63ba03b9-7671-4b20-b96e-821d2c8bc240",
   "metadata": {},
   "outputs": [
    {
     "data": {
      "text/plain": [
       "dict_keys(['data', 'target', 'frame', 'categories', 'feature_names', 'target_names', 'DESCR', 'details', 'url'])"
      ]
     },
     "execution_count": 6,
     "metadata": {},
     "output_type": "execute_result"
    }
   ],
   "source": [
    "#Print dictionary keys\n",
    "mnist.keys()"
   ]
  },
  {
   "cell_type": "markdown",
   "id": "61367a84-b553-4aa9-86bb-1b27ac72c619",
   "metadata": {},
   "source": [
    "* Save the contents of the data and target from the MNIST dictionary into data_array and target array variables\n",
    "    * Also print out the shape of data_array\n",
    "* Notice the type of the target array – convert this to np.uint8 using the astype() method"
   ]
  },
  {
   "cell_type": "code",
   "execution_count": 7,
   "id": "37a19326-c631-4f7f-8db0-e05277d91212",
   "metadata": {},
   "outputs": [
    {
     "data": {
      "text/plain": [
       "str"
      ]
     },
     "execution_count": 7,
     "metadata": {},
     "output_type": "execute_result"
    }
   ],
   "source": [
    "#Save contents of target and data to np arrays\n",
    "target_array = mnist.target\n",
    "data_array = mnist.data\n",
    "\n",
    "type(target_array[0])"
   ]
  },
  {
   "cell_type": "code",
   "execution_count": 93,
   "id": "bbd23268-acc5-4b7a-b0ce-112a96aad64a",
   "metadata": {},
   "outputs": [
    {
     "name": "stdout",
     "output_type": "stream",
     "text": [
      "[[0. 0. 0. ... 0. 0. 0.]\n",
      " [0. 0. 0. ... 0. 0. 0.]\n",
      " [0. 0. 0. ... 0. 0. 0.]\n",
      " ...\n",
      " [0. 0. 0. ... 0. 0. 0.]\n",
      " [0. 0. 0. ... 0. 0. 0.]\n",
      " [0. 0. 0. ... 0. 0. 0.]]\n"
     ]
    }
   ],
   "source": [
    "#Print shape of the data array\n",
    "np.shape(data_array)\n",
    "print(data_array[0:10])"
   ]
  },
  {
   "cell_type": "code",
   "execution_count": 9,
   "id": "4277bffb-0ce7-426c-bbbc-fd9f05908a74",
   "metadata": {},
   "outputs": [
    {
     "data": {
      "text/plain": [
       "numpy.uint8"
      ]
     },
     "execution_count": 9,
     "metadata": {},
     "output_type": "execute_result"
    }
   ],
   "source": [
    "#Change the type of target array\n",
    "target_array = mnist.target.astype(np.uint8)\n",
    "type(target_array[0])"
   ]
  },
  {
   "cell_type": "markdown",
   "id": "77e43f92-3394-4192-925e-f89ac996beeb",
   "metadata": {},
   "source": [
    "* Print and glance over the description given in the mnist dictionary\n",
    "* Plot an image of the very first image in the dataset (matplotlib imshow)\n",
    "\n",
    "* Bonus ACTIVITY: Write a function that takes in the index of a sample and plots it\n"
   ]
  },
  {
   "cell_type": "code",
   "execution_count": 10,
   "id": "3502601a-3b9a-4369-91d2-adb3d6bd17ec",
   "metadata": {},
   "outputs": [
    {
     "name": "stdout",
     "output_type": "stream",
     "text": [
      "**Author**: Yann LeCun, Corinna Cortes, Christopher J.C. Burges  \n",
      "**Source**: [MNIST Website](http://yann.lecun.com/exdb/mnist/) - Date unknown  \n",
      "**Please cite**:  \n",
      "\n",
      "The MNIST database of handwritten digits with 784 features, raw data available at: http://yann.lecun.com/exdb/mnist/. It can be split in a training set of the first 60,000 examples, and a test set of 10,000 examples  \n",
      "\n",
      "It is a subset of a larger set available from NIST. The digits have been size-normalized and centered in a fixed-size image. It is a good database for people who want to try learning techniques and pattern recognition methods on real-world data while spending minimal efforts on preprocessing and formatting. The original black and white (bilevel) images from NIST were size normalized to fit in a 20x20 pixel box while preserving their aspect ratio. The resulting images contain grey levels as a result of the anti-aliasing technique used by the normalization algorithm. the images were centered in a 28x28 image by computing the center of mass of the pixels, and translating the image so as to position this point at the center of the 28x28 field.  \n",
      "\n",
      "With some classification methods (particularly template-based methods, such as SVM and K-nearest neighbors), the error rate improves when the digits are centered by bounding box rather than center of mass. If you do this kind of pre-processing, you should report it in your publications. The MNIST database was constructed from NIST's NIST originally designated SD-3 as their training set and SD-1 as their test set. However, SD-3 is much cleaner and easier to recognize than SD-1. The reason for this can be found on the fact that SD-3 was collected among Census Bureau employees, while SD-1 was collected among high-school students. Drawing sensible conclusions from learning experiments requires that the result be independent of the choice of training set and test among the complete set of samples. Therefore it was necessary to build a new database by mixing NIST's datasets.  \n",
      "\n",
      "The MNIST training set is composed of 30,000 patterns from SD-3 and 30,000 patterns from SD-1. Our test set was composed of 5,000 patterns from SD-3 and 5,000 patterns from SD-1. The 60,000 pattern training set contained examples from approximately 250 writers. We made sure that the sets of writers of the training set and test set were disjoint. SD-1 contains 58,527 digit images written by 500 different writers. In contrast to SD-3, where blocks of data from each writer appeared in sequence, the data in SD-1 is scrambled. Writer identities for SD-1 is available and we used this information to unscramble the writers. We then split SD-1 in two: characters written by the first 250 writers went into our new training set. The remaining 250 writers were placed in our test set. Thus we had two sets with nearly 30,000 examples each. The new training set was completed with enough examples from SD-3, starting at pattern # 0, to make a full set of 60,000 training patterns. Similarly, the new test set was completed with SD-3 examples starting at pattern # 35,000 to make a full set with 60,000 test patterns. Only a subset of 10,000 test images (5,000 from SD-1 and 5,000 from SD-3) is available on this site. The full 60,000 sample training set is available.\n",
      "\n",
      "Downloaded from openml.org.\n"
     ]
    }
   ],
   "source": [
    "print(mnist.DESCR)"
   ]
  },
  {
   "cell_type": "code",
   "execution_count": 11,
   "id": "5dd44eb4-8d58-4f30-8711-39bfaa28ea06",
   "metadata": {},
   "outputs": [
    {
     "data": {
      "text/plain": [
       "<matplotlib.image.AxesImage at 0x7fc490a4a040>"
      ]
     },
     "execution_count": 11,
     "metadata": {},
     "output_type": "execute_result"
    },
    {
     "data": {
      "image/png": "[encoded data removed]",
      "text/plain": [
       "<Figure size 432x288 with 1 Axes>"
      ]
     },
     "metadata": {
      "needs_background": "light"
     },
     "output_type": "display_data"
    }
   ],
   "source": [
    "plt.imshow(data_array[2].reshape(28,28))"
   ]
  },
  {
   "cell_type": "code",
   "execution_count": 12,
   "id": "08016181-c70d-449c-8783-12de2b0ddcc1",
   "metadata": {},
   "outputs": [
    {
     "data": {
      "image/png": "[encoded data removed]",
      "text/plain": [
       "<Figure size 432x288 with 1 Axes>"
      ]
     },
     "metadata": {
      "needs_background": "light"
     },
     "output_type": "display_data"
    }
   ],
   "source": [
    "def index_plot(i):\n",
    "    plt.imshow(data_array[i].reshape(28,28))\n",
    "    \n",
    "index_plot(5)"
   ]
  },
  {
   "cell_type": "markdown",
   "id": "c98ac73c-f452-4252-b4e2-871be516f96e",
   "metadata": {},
   "source": [
    "### train_test_split\n",
    "* turn off shuffle"
   ]
  },
  {
   "cell_type": "code",
   "execution_count": 13,
   "id": "b43cecf1-a1aa-4d9c-9679-e29c3538f88e",
   "metadata": {},
   "outputs": [],
   "source": [
    "data_train, data_test, target_train, target_test = train_test_split(data_array, target_array, shuffle=False)\n"
   ]
  },
  {
   "cell_type": "code",
   "execution_count": 14,
   "id": "34632e1d-882d-4e91-a95f-27971e3685c0",
   "metadata": {},
   "outputs": [
    {
     "data": {
      "text/plain": [
       "array([5, 0, 4, 1, 9, 2, 1, 3, 1, 4], dtype=uint8)"
      ]
     },
     "execution_count": 14,
     "metadata": {},
     "output_type": "execute_result"
    }
   ],
   "source": [
    "np.shape(target_train)\n",
    "target_train[0:10]"
   ]
  },
  {
   "cell_type": "markdown",
   "id": "b23f7d94-c8fd-46a3-9a22-16823a02aa95",
   "metadata": {},
   "source": [
    "### Make a new target array (for only train dataset) that is composed of Boolean values (True for 5s and False for not 5s)\n",
    "* Name the new array target_array_train_5\n"
   ]
  },
  {
   "cell_type": "code",
   "execution_count": 15,
   "id": "f7637ef4-822a-41ee-b43c-ef9c0fc5a40e",
   "metadata": {},
   "outputs": [],
   "source": [
    "target_train_5 = target_train == 5"
   ]
  },
  {
   "cell_type": "code",
   "execution_count": 16,
   "id": "28e78a67-c709-4108-92eb-f757eb0cfb77",
   "metadata": {},
   "outputs": [
    {
     "data": {
      "text/plain": [
       "array([ True, False, False, False, False, False, False, False, False,\n",
       "       False])"
      ]
     },
     "execution_count": 16,
     "metadata": {},
     "output_type": "execute_result"
    }
   ],
   "source": [
    "target_train_5[0:10]"
   ]
  },
  {
   "cell_type": "markdown",
   "id": "55328835-4085-425b-a73c-fec339225cdb",
   "metadata": {},
   "source": [
    "### SGDClassifier\n",
    "* Name it sgd_clf\n",
    "* Fit the model to the data with the fives target\n",
    "* Check to see if it worked using the predict function on a specific sample you know is a 5; also a sample you know is not a 5\n",
    "    * Individual predictions will require a reshape (necessary command will appear in error)\n"
   ]
  },
  {
   "cell_type": "code",
   "execution_count": 17,
   "id": "fdff4302-6106-4a5b-9633-af8baea3a7a5",
   "metadata": {},
   "outputs": [],
   "source": [
    "sgd_clf = linear_model.SGDClassifier()"
   ]
  },
  {
   "cell_type": "code",
   "execution_count": 18,
   "id": "f3c9eb4d-1b4e-4d89-807b-9169251f6e74",
   "metadata": {},
   "outputs": [
    {
     "data": {
      "text/plain": [
       "SGDClassifier()"
      ]
     },
     "execution_count": 18,
     "metadata": {},
     "output_type": "execute_result"
    }
   ],
   "source": [
    "sgd_clf.fit(data_train, target_train_5)"
   ]
  },
  {
   "cell_type": "code",
   "execution_count": 19,
   "id": "b7bb013a-2dc6-49dc-b6df-6c3ac37c9900",
   "metadata": {},
   "outputs": [
    {
     "data": {
      "text/plain": [
       "array([ True])"
      ]
     },
     "execution_count": 19,
     "metadata": {},
     "output_type": "execute_result"
    }
   ],
   "source": [
    "sgd_clf.predict(data_train[0].reshape(1, -1))"
   ]
  },
  {
   "cell_type": "markdown",
   "id": "c4ae4235-2044-49b5-862e-7ab8172e3c85",
   "metadata": {
    "tags": []
   },
   "source": [
    "### StandardScaler"
   ]
  },
  {
   "cell_type": "code",
   "execution_count": 58,
   "id": "e6c558f4-a17a-43fe-9323-938530f66144",
   "metadata": {},
   "outputs": [],
   "source": [
    "scaler = StandardScaler()\n",
    "scaler.fit(data_train)\n",
    "data_train_scaled = scaler.transform(data_train)"
   ]
  },
  {
   "cell_type": "code",
   "execution_count": 94,
   "id": "54ddefa2-0bfb-4c83-b408-da55ba7f0abd",
   "metadata": {},
   "outputs": [
    {
     "ename": "ValueError",
     "evalue": "Expected 2D array, got 1D array instead:\narray=[5. 0. 4. ... 7. 1. 4.].\nReshape your data either using array.reshape(-1, 1) if your data has a single feature or array.reshape(1, -1) if it contains a single sample.",
     "output_type": "error",
     "traceback": [
      "\u001b[0;31m---------------------------------------------------------------------------\u001b[0m",
      "\u001b[0;31mValueError\u001b[0m                                Traceback (most recent call last)",
      "Input \u001b[0;32mIn [94]\u001b[0m, in \u001b[0;36m<cell line: 2>\u001b[0;34m()\u001b[0m\n\u001b[1;32m      1\u001b[0m scaler \u001b[38;5;241m=\u001b[39m StandardScaler()\n\u001b[0;32m----> 2\u001b[0m \u001b[43mscaler\u001b[49m\u001b[38;5;241;43m.\u001b[39;49m\u001b[43mfit\u001b[49m\u001b[43m(\u001b[49m\u001b[43mtarget_train\u001b[49m\u001b[43m)\u001b[49m\n\u001b[1;32m      3\u001b[0m data_train_scaled \u001b[38;5;241m=\u001b[39m scaler\u001b[38;5;241m.\u001b[39mtransform(target_train)\n",
      "File \u001b[0;32m~/opt/anaconda3/lib/python3.9/site-packages/sklearn/preprocessing/_data.py:806\u001b[0m, in \u001b[0;36mStandardScaler.fit\u001b[0;34m(self, X, y, sample_weight)\u001b[0m\n\u001b[1;32m    804\u001b[0m \u001b[38;5;66;03m# Reset internal state before fitting\u001b[39;00m\n\u001b[1;32m    805\u001b[0m \u001b[38;5;28mself\u001b[39m\u001b[38;5;241m.\u001b[39m_reset()\n\u001b[0;32m--> 806\u001b[0m \u001b[38;5;28;01mreturn\u001b[39;00m \u001b[38;5;28;43mself\u001b[39;49m\u001b[38;5;241;43m.\u001b[39;49m\u001b[43mpartial_fit\u001b[49m\u001b[43m(\u001b[49m\u001b[43mX\u001b[49m\u001b[43m,\u001b[49m\u001b[43m \u001b[49m\u001b[43my\u001b[49m\u001b[43m,\u001b[49m\u001b[43m \u001b[49m\u001b[43msample_weight\u001b[49m\u001b[43m)\u001b[49m\n",
      "File \u001b[0;32m~/opt/anaconda3/lib/python3.9/site-packages/sklearn/preprocessing/_data.py:841\u001b[0m, in \u001b[0;36mStandardScaler.partial_fit\u001b[0;34m(self, X, y, sample_weight)\u001b[0m\n\u001b[1;32m    809\u001b[0m \u001b[38;5;124;03m\"\"\"Online computation of mean and std on X for later scaling.\u001b[39;00m\n\u001b[1;32m    810\u001b[0m \n\u001b[1;32m    811\u001b[0m \u001b[38;5;124;03mAll of X is processed as a single batch. This is intended for cases\u001b[39;00m\n\u001b[0;32m   (...)\u001b[0m\n\u001b[1;32m    838\u001b[0m \u001b[38;5;124;03m    Fitted scaler.\u001b[39;00m\n\u001b[1;32m    839\u001b[0m \u001b[38;5;124;03m\"\"\"\u001b[39;00m\n\u001b[1;32m    840\u001b[0m first_call \u001b[38;5;241m=\u001b[39m \u001b[38;5;129;01mnot\u001b[39;00m \u001b[38;5;28mhasattr\u001b[39m(\u001b[38;5;28mself\u001b[39m, \u001b[38;5;124m\"\u001b[39m\u001b[38;5;124mn_samples_seen_\u001b[39m\u001b[38;5;124m\"\u001b[39m)\n\u001b[0;32m--> 841\u001b[0m X \u001b[38;5;241m=\u001b[39m \u001b[38;5;28;43mself\u001b[39;49m\u001b[38;5;241;43m.\u001b[39;49m\u001b[43m_validate_data\u001b[49m\u001b[43m(\u001b[49m\n\u001b[1;32m    842\u001b[0m \u001b[43m    \u001b[49m\u001b[43mX\u001b[49m\u001b[43m,\u001b[49m\n\u001b[1;32m    843\u001b[0m \u001b[43m    \u001b[49m\u001b[43maccept_sparse\u001b[49m\u001b[38;5;241;43m=\u001b[39;49m\u001b[43m(\u001b[49m\u001b[38;5;124;43m\"\u001b[39;49m\u001b[38;5;124;43mcsr\u001b[39;49m\u001b[38;5;124;43m\"\u001b[39;49m\u001b[43m,\u001b[49m\u001b[43m \u001b[49m\u001b[38;5;124;43m\"\u001b[39;49m\u001b[38;5;124;43mcsc\u001b[39;49m\u001b[38;5;124;43m\"\u001b[39;49m\u001b[43m)\u001b[49m\u001b[43m,\u001b[49m\n\u001b[1;32m    844\u001b[0m \u001b[43m    \u001b[49m\u001b[43mestimator\u001b[49m\u001b[38;5;241;43m=\u001b[39;49m\u001b[38;5;28;43mself\u001b[39;49m\u001b[43m,\u001b[49m\n\u001b[1;32m    845\u001b[0m \u001b[43m    \u001b[49m\u001b[43mdtype\u001b[49m\u001b[38;5;241;43m=\u001b[39;49m\u001b[43mFLOAT_DTYPES\u001b[49m\u001b[43m,\u001b[49m\n\u001b[1;32m    846\u001b[0m \u001b[43m    \u001b[49m\u001b[43mforce_all_finite\u001b[49m\u001b[38;5;241;43m=\u001b[39;49m\u001b[38;5;124;43m\"\u001b[39;49m\u001b[38;5;124;43mallow-nan\u001b[39;49m\u001b[38;5;124;43m\"\u001b[39;49m\u001b[43m,\u001b[49m\n\u001b[1;32m    847\u001b[0m \u001b[43m    \u001b[49m\u001b[43mreset\u001b[49m\u001b[38;5;241;43m=\u001b[39;49m\u001b[43mfirst_call\u001b[49m\u001b[43m,\u001b[49m\n\u001b[1;32m    848\u001b[0m \u001b[43m\u001b[49m\u001b[43m)\u001b[49m\n\u001b[1;32m    849\u001b[0m n_features \u001b[38;5;241m=\u001b[39m X\u001b[38;5;241m.\u001b[39mshape[\u001b[38;5;241m1\u001b[39m]\n\u001b[1;32m    851\u001b[0m \u001b[38;5;28;01mif\u001b[39;00m sample_weight \u001b[38;5;129;01mis\u001b[39;00m \u001b[38;5;129;01mnot\u001b[39;00m \u001b[38;5;28;01mNone\u001b[39;00m:\n",
      "File \u001b[0;32m~/opt/anaconda3/lib/python3.9/site-packages/sklearn/base.py:566\u001b[0m, in \u001b[0;36mBaseEstimator._validate_data\u001b[0;34m(self, X, y, reset, validate_separately, **check_params)\u001b[0m\n\u001b[1;32m    564\u001b[0m     \u001b[38;5;28;01mraise\u001b[39;00m \u001b[38;5;167;01mValueError\u001b[39;00m(\u001b[38;5;124m\"\u001b[39m\u001b[38;5;124mValidation should be done on X, y or both.\u001b[39m\u001b[38;5;124m\"\u001b[39m)\n\u001b[1;32m    565\u001b[0m \u001b[38;5;28;01melif\u001b[39;00m \u001b[38;5;129;01mnot\u001b[39;00m no_val_X \u001b[38;5;129;01mand\u001b[39;00m no_val_y:\n\u001b[0;32m--> 566\u001b[0m     X \u001b[38;5;241m=\u001b[39m \u001b[43mcheck_array\u001b[49m\u001b[43m(\u001b[49m\u001b[43mX\u001b[49m\u001b[43m,\u001b[49m\u001b[43m \u001b[49m\u001b[38;5;241;43m*\u001b[39;49m\u001b[38;5;241;43m*\u001b[39;49m\u001b[43mcheck_params\u001b[49m\u001b[43m)\u001b[49m\n\u001b[1;32m    567\u001b[0m     out \u001b[38;5;241m=\u001b[39m X\n\u001b[1;32m    568\u001b[0m \u001b[38;5;28;01melif\u001b[39;00m no_val_X \u001b[38;5;129;01mand\u001b[39;00m \u001b[38;5;129;01mnot\u001b[39;00m no_val_y:\n",
      "File \u001b[0;32m~/opt/anaconda3/lib/python3.9/site-packages/sklearn/utils/validation.py:769\u001b[0m, in \u001b[0;36mcheck_array\u001b[0;34m(array, accept_sparse, accept_large_sparse, dtype, order, copy, force_all_finite, ensure_2d, allow_nd, ensure_min_samples, ensure_min_features, estimator)\u001b[0m\n\u001b[1;32m    767\u001b[0m     \u001b[38;5;66;03m# If input is 1D raise error\u001b[39;00m\n\u001b[1;32m    768\u001b[0m     \u001b[38;5;28;01mif\u001b[39;00m array\u001b[38;5;241m.\u001b[39mndim \u001b[38;5;241m==\u001b[39m \u001b[38;5;241m1\u001b[39m:\n\u001b[0;32m--> 769\u001b[0m         \u001b[38;5;28;01mraise\u001b[39;00m \u001b[38;5;167;01mValueError\u001b[39;00m(\n\u001b[1;32m    770\u001b[0m             \u001b[38;5;124m\"\u001b[39m\u001b[38;5;124mExpected 2D array, got 1D array instead:\u001b[39m\u001b[38;5;130;01m\\n\u001b[39;00m\u001b[38;5;124marray=\u001b[39m\u001b[38;5;132;01m{}\u001b[39;00m\u001b[38;5;124m.\u001b[39m\u001b[38;5;130;01m\\n\u001b[39;00m\u001b[38;5;124m\"\u001b[39m\n\u001b[1;32m    771\u001b[0m             \u001b[38;5;124m\"\u001b[39m\u001b[38;5;124mReshape your data either using array.reshape(-1, 1) if \u001b[39m\u001b[38;5;124m\"\u001b[39m\n\u001b[1;32m    772\u001b[0m             \u001b[38;5;124m\"\u001b[39m\u001b[38;5;124myour data has a single feature or array.reshape(1, -1) \u001b[39m\u001b[38;5;124m\"\u001b[39m\n\u001b[1;32m    773\u001b[0m             \u001b[38;5;124m\"\u001b[39m\u001b[38;5;124mif it contains a single sample.\u001b[39m\u001b[38;5;124m\"\u001b[39m\u001b[38;5;241m.\u001b[39mformat(array)\n\u001b[1;32m    774\u001b[0m         )\n\u001b[1;32m    776\u001b[0m \u001b[38;5;66;03m# make sure we actually converted to numeric:\u001b[39;00m\n\u001b[1;32m    777\u001b[0m \u001b[38;5;28;01mif\u001b[39;00m dtype_numeric \u001b[38;5;129;01mand\u001b[39;00m array\u001b[38;5;241m.\u001b[39mdtype\u001b[38;5;241m.\u001b[39mkind \u001b[38;5;129;01min\u001b[39;00m \u001b[38;5;124m\"\u001b[39m\u001b[38;5;124mOUSV\u001b[39m\u001b[38;5;124m\"\u001b[39m:\n",
      "\u001b[0;31mValueError\u001b[0m: Expected 2D array, got 1D array instead:\narray=[5. 0. 4. ... 7. 1. 4.].\nReshape your data either using array.reshape(-1, 1) if your data has a single feature or array.reshape(1, -1) if it contains a single sample."
     ]
    }
   ],
   "source": [
    "scaler = StandardScaler()\n",
    "scaler.fit(target_train)\n",
    "data_train_scaled = scaler.transform(target_train)"
   ]
  },
  {
   "cell_type": "code",
   "execution_count": 59,
   "id": "d8636cee-98c0-4240-87c1-fdc8fba3d517",
   "metadata": {},
   "outputs": [
    {
     "data": {
      "text/plain": [
       "array([5, 0, 1, 1, 7, 0, 1, 0, 1, 4], dtype=uint8)"
      ]
     },
     "execution_count": 59,
     "metadata": {},
     "output_type": "execute_result"
    }
   ],
   "source": [
    "sgd_clf.predict(data_train_scaled[0:10])"
   ]
  },
  {
   "cell_type": "markdown",
   "id": "3d29df6b-2979-4233-aa32-2513fa8f8e65",
   "metadata": {},
   "source": [
    "### cross_val_score\n",
    "* Implement it using 3-fold cross validation, scoring for accuracy\n"
   ]
  },
  {
   "cell_type": "code",
   "execution_count": 22,
   "id": "a4d4fbc2-d6ad-4853-8598-c60c65d8fd00",
   "metadata": {},
   "outputs": [
    {
     "data": {
      "text/plain": [
       "array([0.9648    , 0.97114286, 0.96737143])"
      ]
     },
     "execution_count": 22,
     "metadata": {},
     "output_type": "execute_result"
    }
   ],
   "source": [
    "cross_val_score(sgd_clf, data_train, target_train_5, cv = 3)"
   ]
  },
  {
   "cell_type": "markdown",
   "id": "45dfe506-c95d-41e4-a231-d609a3f94bbd",
   "metadata": {},
   "source": [
    "### Calculate the accuracy if the model always predicted not-5\n"
   ]
  },
  {
   "cell_type": "code",
   "execution_count": 23,
   "id": "8e7d84e1-a6f5-4042-b0ca-d30dd3e74d45",
   "metadata": {},
   "outputs": [
    {
     "data": {
      "text/plain": [
       "(4739, (52500,))"
      ]
     },
     "execution_count": 23,
     "metadata": {},
     "output_type": "execute_result"
    }
   ],
   "source": [
    "all_the_true = target_train_5.sum()\n",
    "all_the_true, target_train_5.shape"
   ]
  },
  {
   "cell_type": "code",
   "execution_count": 24,
   "id": "6aba4b42-6acd-42e2-863f-d8329fcb7613",
   "metadata": {},
   "outputs": [
    {
     "data": {
      "text/plain": [
       "(90.97333333333333, (52500,))"
      ]
     },
     "execution_count": 24,
     "metadata": {},
     "output_type": "execute_result"
    }
   ],
   "source": [
    "accuracy_not5 = 100-((all_the_true/52500)*100)\n",
    "accuracy_not5, target_train_5.shape\n"
   ]
  },
  {
   "cell_type": "markdown",
   "id": "8d3bdd18-ec4c-4f9e-805b-8139aa16783f",
   "metadata": {},
   "source": [
    "### cross_val_predict \n",
    "* Name the array of predictions target_array_train_5_pred"
   ]
  },
  {
   "cell_type": "code",
   "execution_count": 25,
   "id": "29b5139a-fc61-4ca4-b502-32ae6040a64d",
   "metadata": {},
   "outputs": [
    {
     "name": "stdout",
     "output_type": "stream",
     "text": [
      "[ True False False False False False False False False False]\n"
     ]
    }
   ],
   "source": [
    "target_array_train_5_pred = cross_val_predict(sgd_clf, data_train, target_train_5, cv = 3)\n",
    "print(target_array_train_5_pred[0:10])"
   ]
  },
  {
   "cell_type": "markdown",
   "id": "2c24fdb8-01e8-47e9-a8e6-b65d999b8db5",
   "metadata": {},
   "source": [
    "### precision_score; recall_score"
   ]
  },
  {
   "cell_type": "code",
   "execution_count": 26,
   "id": "6bd17b39-bf08-41e3-98ea-a70991c4f364",
   "metadata": {},
   "outputs": [
    {
     "data": {
      "text/plain": [
       "0.896993152724025"
      ]
     },
     "execution_count": 26,
     "metadata": {},
     "output_type": "execute_result"
    }
   ],
   "source": [
    "precision_score(target_train_5 ,target_array_train_5_pred, average = 'binary')"
   ]
  },
  {
   "cell_type": "code",
   "execution_count": 27,
   "id": "77b38f16-f966-46af-a83e-9eb30c90a534",
   "metadata": {},
   "outputs": [
    {
     "data": {
      "text/plain": [
       "0.6357881409580081"
      ]
     },
     "execution_count": 27,
     "metadata": {},
     "output_type": "execute_result"
    }
   ],
   "source": [
    "recall_score(target_train_5 ,target_array_train_5_pred, average = 'binary')"
   ]
  },
  {
   "cell_type": "code",
   "execution_count": 28,
   "id": "0d813eb1-7d0d-4ec1-85de-0f22671a2180",
   "metadata": {},
   "outputs": [
    {
     "data": {
      "text/plain": [
       "(0.896993152724025, 0.6357881409580081, 0.7441343541615214, None)"
      ]
     },
     "execution_count": 28,
     "metadata": {},
     "output_type": "execute_result"
    }
   ],
   "source": [
    "precision_recall_fscore_support(target_train_5, target_array_train_5_pred, average = 'binary')"
   ]
  },
  {
   "cell_type": "markdown",
   "id": "1a71de58-02bf-4254-b80c-24f81677af41",
   "metadata": {},
   "source": [
    "### roc_curve\n",
    "* Run cross_val_predict as before, but add method='decision_function'\n",
    "* Use matplotlib plot to create ROC curve figure"
   ]
  },
  {
   "cell_type": "code",
   "execution_count": 29,
   "id": "b41ee1fa-912b-48e9-8310-e3ddde73190a",
   "metadata": {},
   "outputs": [
    {
     "name": "stdout",
     "output_type": "stream",
     "text": [
      "[  5160.31145254 -20402.86864084 -26346.57092947 -19729.45548154\n",
      " -20986.41847456 -11616.89969798  -8531.30058841 -19055.31788256\n",
      "  -5353.73317759 -13688.3816651 ]\n"
     ]
    }
   ],
   "source": [
    "target_train_5_pred = cross_val_predict(sgd_clf, data_train, target_train_5, cv = 3, method = 'decision_function')\n",
    "print(target_train_5_pred[0:10])"
   ]
  },
  {
   "cell_type": "code",
   "execution_count": 30,
   "id": "7ebaca50-0268-40c6-8c3f-d464ec35a727",
   "metadata": {},
   "outputs": [],
   "source": [
    "fpr, tpr, thresholds = metrics.roc_curve(target_train_5 ,target_train_5_pred)"
   ]
  },
  {
   "cell_type": "code",
   "execution_count": 31,
   "id": "0b6a80c4-8e82-4374-8fbe-24810d4088a3",
   "metadata": {},
   "outputs": [
    {
     "name": "stdout",
     "output_type": "stream",
     "text": [
      "[0.00000000e+00 0.00000000e+00 2.09375851e-05 ... 9.99099684e-01\n",
      " 9.99099684e-01 1.00000000e+00] [0.00000000e+00 2.11014982e-04 2.11014982e-04 ... 9.99788985e-01\n",
      " 1.00000000e+00 1.00000000e+00] [  38728.19102206   38727.19102206   38091.89133085 ...  -97633.02162125\n",
      "  -99692.68625855 -145237.62329155]\n"
     ]
    }
   ],
   "source": [
    "print(fpr, tpr, thresholds)"
   ]
  },
  {
   "cell_type": "code",
   "execution_count": 32,
   "id": "119047da-af7a-4bd8-b110-cf5f33b26790",
   "metadata": {},
   "outputs": [
    {
     "data": {
      "image/png": "[encoded data removed]",
      "text/plain": [
       "<Figure size 432x288 with 1 Axes>"
      ]
     },
     "metadata": {
      "needs_background": "light"
     },
     "output_type": "display_data"
    }
   ],
   "source": [
    "plt.plot(fpr, tpr)\n",
    "plt.ylabel('True Positive Rate')\n",
    "plt.xlabel('False Positive Rate')\n",
    "plt.show()"
   ]
  },
  {
   "cell_type": "markdown",
   "id": "a1d093f4-4f07-4bb8-afaa-462fd9c6fe16",
   "metadata": {},
   "source": [
    "### roc_auc_score"
   ]
  },
  {
   "cell_type": "code",
   "execution_count": 33,
   "id": "63d131ec-b369-4154-9765-c6963423d02a",
   "metadata": {},
   "outputs": [
    {
     "data": {
      "text/plain": [
       "0.9664261383345052"
      ]
     },
     "execution_count": 33,
     "metadata": {},
     "output_type": "execute_result"
    }
   ],
   "source": [
    "metrics.roc_auc_score(target_train_5 ,target_train_5_pred)"
   ]
  },
  {
   "cell_type": "markdown",
   "id": "c42e41bd-2e4e-4dfc-86c4-e9f1af763fdf",
   "metadata": {},
   "source": [
    "### Find the cross_val_pred for the SGD classifier using all 10 classes (change targets)\n",
    "* Use a new variable target_array_train_pred to save predictions "
   ]
  },
  {
   "cell_type": "code",
   "execution_count": 84,
   "id": "cf01346e-5bc0-488a-b9c5-093dac9d3f63",
   "metadata": {},
   "outputs": [],
   "source": [
    "sgd_clf = linear_model.SGDClassifier()"
   ]
  },
  {
   "cell_type": "code",
   "execution_count": 85,
   "id": "2352a59c-6d60-4bd6-add5-a27298c01d15",
   "metadata": {},
   "outputs": [
    {
     "data": {
      "text/plain": [
       "SGDClassifier()"
      ]
     },
     "execution_count": 85,
     "metadata": {},
     "output_type": "execute_result"
    }
   ],
   "source": [
    "sgd_clf.fit(data_train, target_train)"
   ]
  },
  {
   "cell_type": "code",
   "execution_count": 86,
   "id": "02e60f53-e929-4d1f-8151-fabc08d32054",
   "metadata": {},
   "outputs": [
    {
     "name": "stdout",
     "output_type": "stream",
     "text": [
      "[5 0 4 1 9 2 1 3 1 4 3 5 3 6 1 7 2 8 5 9 4 0 9 1 1 8 4 3 7 7 3 8 6 7 0 5 6\n",
      " 0 7 6 1 8 7 9 3 9 8 5 5 3]\n",
      "[5 0 4 1 9 2 1 3 1 4 3 5 3 6 1 7 2 8 6 9 4 0 9 1 1 2 4 3 2 7 3 8 6 9 0 5 6\n",
      " 0 7 6 1 8 7 9 3 9 8 5 9 3]\n"
     ]
    }
   ],
   "source": [
    "print(sgd_clf.predict(data_train[0:50]))\n",
    "print(target_array[0:50])"
   ]
  },
  {
   "cell_type": "code",
   "execution_count": 87,
   "id": "64b1706a-c2bb-49a6-a061-aa04b27db4f9",
   "metadata": {},
   "outputs": [
    {
     "data": {
      "text/plain": [
       "array([0.86297143, 0.87422857, 0.85897143])"
      ]
     },
     "execution_count": 87,
     "metadata": {},
     "output_type": "execute_result"
    }
   ],
   "source": [
    "#cross val score\n",
    "cross_val_score(sgd_clf, data_train, target_train, cv=3)"
   ]
  },
  {
   "cell_type": "code",
   "execution_count": 88,
   "id": "6cf66885-bc13-443b-819d-88b21a2d94f2",
   "metadata": {},
   "outputs": [
    {
     "data": {
      "text/plain": [
       "array([0.90017143, 0.89948571, 0.89165714])"
      ]
     },
     "execution_count": 88,
     "metadata": {},
     "output_type": "execute_result"
    }
   ],
   "source": [
    "#cross val score for scaled data\n",
    "cross_val_score(sgd_clf, data_train_scaled, target_train, cv=3)"
   ]
  },
  {
   "cell_type": "code",
   "execution_count": 89,
   "id": "ec032cf0-bc53-4ac5-9c32-9dd8f3821a87",
   "metadata": {},
   "outputs": [
    {
     "name": "stdout",
     "output_type": "stream",
     "text": [
      "[3 0 4 1 9 2 1 3 1 4 3 5 3 6 1 7 2 8 6 9 4 0 9 1 1]\n"
     ]
    }
   ],
   "source": [
    "#cross val predict\n",
    "target_array_train_pred = cross_val_predict(sgd_clf, data_train, target_train, cv = 3)\n",
    "print(target_array_train_pred[0:25])"
   ]
  },
  {
   "cell_type": "code",
   "execution_count": 90,
   "id": "f64b563b-ee4d-40c3-a619-26aaf52b406d",
   "metadata": {},
   "outputs": [
    {
     "name": "stderr",
     "output_type": "stream",
     "text": [
      "/Users/nicolejackson/opt/anaconda3/lib/python3.9/site-packages/sklearn/linear_model/_stochastic_gradient.py:696: ConvergenceWarning: Maximum number of iteration reached before convergence. Consider increasing max_iter to improve the fit.\n",
      "  warnings.warn(\n"
     ]
    },
    {
     "name": "stdout",
     "output_type": "stream",
     "text": [
      "[3 0 4 1 9 2 1 3 1 4 3 5 3 6 1 7 2 8 6 9 4 0 9 1 3]\n"
     ]
    }
   ],
   "source": [
    "#cross val predict for scaled data \n",
    "target_array_train_pred = cross_val_predict(sgd_clf, data_train_scaled, target_train, cv = 3)\n",
    "print(target_array_train_pred[0:25])"
   ]
  },
  {
   "cell_type": "code",
   "execution_count": 91,
   "id": "0b854b80-2827-4626-9544-c802f6b41cbc",
   "metadata": {},
   "outputs": [
    {
     "data": {
      "text/plain": [
       "(0.9054161001533882, 0.8983418271709448, 0.8998909581857989, None)"
      ]
     },
     "execution_count": 91,
     "metadata": {},
     "output_type": "execute_result"
    }
   ],
   "source": [
    "#precision recall\n",
    "precision_recall_fscore_support(target_train, target_array_train_pred, average = 'macro')\n"
   ]
  },
  {
   "cell_type": "code",
   "execution_count": 92,
   "id": "fe2958c8-c9a9-4c37-8980-327544ac60dd",
   "metadata": {},
   "outputs": [
    {
     "ename": "NameError",
     "evalue": "name 'target_train_scaled' is not defined",
     "output_type": "error",
     "traceback": [
      "\u001b[0;31m---------------------------------------------------------------------------\u001b[0m",
      "\u001b[0;31mNameError\u001b[0m                                 Traceback (most recent call last)",
      "Input \u001b[0;32mIn [92]\u001b[0m, in \u001b[0;36m<cell line: 2>\u001b[0;34m()\u001b[0m\n\u001b[1;32m      1\u001b[0m \u001b[38;5;66;03m#precision recall for scaled data\u001b[39;00m\n\u001b[0;32m----> 2\u001b[0m precision_recall_fscore_support(\u001b[43mtarget_train_scaled\u001b[49m, target_array_train_pred, average \u001b[38;5;241m=\u001b[39m \u001b[38;5;124m'\u001b[39m\u001b[38;5;124mmacro\u001b[39m\u001b[38;5;124m'\u001b[39m)\n",
      "\u001b[0;31mNameError\u001b[0m: name 'target_train_scaled' is not defined"
     ]
    }
   ],
   "source": [
    "#precision recall for scaled data\n",
    "precision_recall_fscore_support(target_train_scaled, target_array_train_pred, average = 'macro')"
   ]
  },
  {
   "cell_type": "markdown",
   "id": "72fea275-944c-430d-9371-a00c2bacd530",
   "metadata": {},
   "source": [
    "### confusion_matrix"
   ]
  },
  {
   "cell_type": "code",
   "execution_count": 83,
   "id": "b21d41ba-b140-4d8b-9718-aa5f813fd6ce",
   "metadata": {},
   "outputs": [
    {
     "name": "stdout",
     "output_type": "stream",
     "text": [
      "[[4907    0  121   21   14   21   21    3   63   13]\n",
      " [   3 5316  123   98   10   19   10   12  342   15]\n",
      " [  53   44 4499   97   65   29   56   50  283   27]\n",
      " [  32   17  313 4419   16  151   12   57  280   54]\n",
      " [  33   12   90   29 4117   35   40   49  468  216]\n",
      " [  80   17  113  320  100 3442   67   29  497   74]\n",
      " [  51   15  185   14   60  107 4627    6  133    6]\n",
      " [  16   12   87   44   90   28    3 4689   89  391]\n",
      " [  55   53  140  337   64  117   17   17 4179  125]\n",
      " [  33   16   49   90  149   88    2  231  423 4148]]\n"
     ]
    }
   ],
   "source": [
    "from sklearn.metrics import confusion_matrix\n",
    "#visualise what class-wise errors are being made by your model. e.g. how many 5s are being mistaken for 8s\n",
    "con_mat = confusion_matrix(target_train, target_array_train_pred)\n",
    "print(con_mat)"
   ]
  },
  {
   "cell_type": "code",
   "execution_count": 82,
   "id": "2837e628-7412-486d-9d7d-e661e0e12b11",
   "metadata": {},
   "outputs": [
    {
     "data": {
      "text/plain": [
       "<matplotlib.image.AxesImage at 0x7fc41a6c4af0>"
      ]
     },
     "execution_count": 82,
     "metadata": {},
     "output_type": "execute_result"
    },
    {
     "data": {
      "image/png": "[encoded data removed]",
      "text/plain": [
       "<Figure size 432x288 with 1 Axes>"
      ]
     },
     "metadata": {
      "needs_background": "light"
     },
     "output_type": "display_data"
    }
   ],
   "source": [
    "plt.imshow(con_mat, origin='lower')\n"
   ]
  },
  {
   "cell_type": "code",
   "execution_count": null,
   "id": "141395e8-186d-4314-8479-a43b41fac924",
   "metadata": {},
   "outputs": [],
   "source": []
  },
  {
   "cell_type": "code",
   "execution_count": null,
   "id": "86ade10e-e58a-42a2-be32-d7e7b4a75a01",
   "metadata": {},
   "outputs": [],
   "source": []
  },
  {
   "cell_type": "code",
   "execution_count": null,
   "id": "b9d5a315-5b17-489f-9f05-d1dd054601b9",
   "metadata": {},
   "outputs": [],
   "source": []
  }
 ],
 "metadata": {
  "kernelspec": {
   "display_name": "Python 3 (ipykernel)",
   "language": "python",
   "name": "python3"
  },
  "language_info": {
   "codemirror_mode": {
    "name": "ipython",
    "version": 3
   },
   "file_extension": ".py",
   "mimetype": "text/x-python",
   "name": "python",
   "nbconvert_exporter": "python",
   "pygments_lexer": "ipython3",
   "version": "3.9.12"
  }
 },
 "nbformat": 4,
 "nbformat_minor": 5
}
